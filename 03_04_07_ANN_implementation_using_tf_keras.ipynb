{
  "nbformat": 4,
  "nbformat_minor": 0,
  "metadata": {
    "colab": {
      "provenance": [],
      "include_colab_link": true
    },
    "kernelspec": {
      "name": "python3",
      "display_name": "Python 3"
    },
    "language_info": {
      "name": "python"
    },
    "accelerator": "GPU"
  },
  "cells": [
    {
      "cell_type": "markdown",
      "metadata": {
        "id": "view-in-github",
        "colab_type": "text"
      },
      "source": [
        "<a href=\"https://colab.research.google.com/github/yashPratp983/PERCEPTRON-implementation/blob/main/03_04_07_ANN_implementation_using_tf_keras.ipynb\" target=\"_parent\"><img src=\"https://colab.research.google.com/assets/colab-badge.svg\" alt=\"Open In Colab\"/></a>"
      ]
    },
    {
      "cell_type": "code",
      "metadata": {
        "id": "LWoTnuVKiK_5"
      },
      "source": [
        "import os\n",
        "ROOT = \"/content/drive/MyDrive/001_SUNNY_BHAVEEN_CHANDRA/oneNeuronDemoDir\"\n",
        "os.chdir(ROOT)"
      ],
      "execution_count": null,
      "outputs": []
    },
    {
      "cell_type": "code",
      "metadata": {
        "colab": {
          "base_uri": "https://localhost:8080/"
        },
        "id": "7jJC7aSpi8bo",
        "outputId": "5a501a23-0b76-4686-c561-033eb44eb1de"
      },
      "source": [
        "os.listdir()"
      ],
      "execution_count": null,
      "outputs": [
        {
          "output_type": "execute_result",
          "data": {
            "text/plain": [
              "['ANN_demo.ipynb']"
            ]
          },
          "metadata": {},
          "execution_count": 43
        }
      ]
    },
    {
      "cell_type": "code",
      "metadata": {
        "id": "3a4gAz9PjANw"
      },
      "source": [
        "import tensorflow as tf"
      ],
      "execution_count": null,
      "outputs": []
    },
    {
      "cell_type": "code",
      "metadata": {
        "colab": {
          "base_uri": "https://localhost:8080/",
          "height": 35
        },
        "id": "8xXurBv4jHxn",
        "outputId": "15fe6262-45b0-456f-bc9b-7355ce390403"
      },
      "source": [
        "tf.__version__"
      ],
      "execution_count": null,
      "outputs": [
        {
          "output_type": "execute_result",
          "data": {
            "application/vnd.google.colaboratory.intrinsic+json": {
              "type": "string"
            },
            "text/plain": [
              "'2.7.0'"
            ]
          },
          "metadata": {},
          "execution_count": 45
        }
      ]
    },
    {
      "cell_type": "code",
      "metadata": {
        "colab": {
          "base_uri": "https://localhost:8080/",
          "height": 35
        },
        "id": "j0hp5qA-jLHn",
        "outputId": "25a16faa-ec59-461b-ca30-0b01eec44dff"
      },
      "source": [
        "tf.keras.__version__"
      ],
      "execution_count": null,
      "outputs": [
        {
          "output_type": "execute_result",
          "data": {
            "application/vnd.google.colaboratory.intrinsic+json": {
              "type": "string"
            },
            "text/plain": [
              "'2.7.0'"
            ]
          },
          "metadata": {},
          "execution_count": 46
        }
      ]
    },
    {
      "cell_type": "code",
      "metadata": {
        "colab": {
          "base_uri": "https://localhost:8080/"
        },
        "id": "Jl38LcjyjXA-",
        "outputId": "d120626a-660b-4fc0-f2a0-89536f0e4d37"
      },
      "source": [
        "tf.config.list_physical_devices(\"GPU\")"
      ],
      "execution_count": null,
      "outputs": [
        {
          "output_type": "execute_result",
          "data": {
            "text/plain": [
              "[PhysicalDevice(name='/physical_device:GPU:0', device_type='GPU')]"
            ]
          },
          "metadata": {},
          "execution_count": 47
        }
      ]
    },
    {
      "cell_type": "markdown",
      "metadata": {
        "id": "J4QWHuGkkFP0"
      },
      "source": [
        "## A Simple classifier using keras's Sequential API"
      ]
    },
    {
      "cell_type": "markdown",
      "metadata": {
        "id": "zpa_8pFBkMO-"
      },
      "source": [
        "### Dataset MNIST\n",
        "\n",
        "* Its a dataset of handwritten digits\n",
        "* each data point it 2d array of 28x28\n",
        "* It has 10 classes 0-9\n",
        "* aka hello world for ANN"
      ]
    },
    {
      "cell_type": "code",
      "metadata": {
        "id": "MPwGkzYejd7m"
      },
      "source": [
        "import numpy as np\n",
        "import matplotlib.pyplot as plt\n",
        "import pandas as pd\n",
        "import tensorflow as tf\n",
        "import os"
      ],
      "execution_count": null,
      "outputs": []
    },
    {
      "cell_type": "code",
      "metadata": {
        "id": "nTWnA5ZBkEZG"
      },
      "source": [
        "mnist = tf.keras.datasets.mnist\n",
        "(X_train_full, y_train_full), (X_test, y_test) = mnist.load_data()"
      ],
      "execution_count": null,
      "outputs": []
    },
    {
      "cell_type": "code",
      "metadata": {
        "colab": {
          "base_uri": "https://localhost:8080/"
        },
        "id": "PICgLB5uk3vf",
        "outputId": "8fcaa633-849a-408f-f2ac-7db9bb18c548"
      },
      "source": [
        "X_train_full.shape, X_train_full.dtype"
      ],
      "execution_count": null,
      "outputs": [
        {
          "output_type": "execute_result",
          "data": {
            "text/plain": [
              "((60000, 28, 28), dtype('uint8'))"
            ]
          },
          "metadata": {},
          "execution_count": 50
        }
      ]
    },
    {
      "cell_type": "code",
      "metadata": {
        "colab": {
          "base_uri": "https://localhost:8080/"
        },
        "id": "t4t6pQDclGy0",
        "outputId": "f3d536d0-99d1-48dc-85a0-1f90461813d6"
      },
      "source": [
        "y_train_full.shape, y_train_full.dtype"
      ],
      "execution_count": null,
      "outputs": [
        {
          "output_type": "execute_result",
          "data": {
            "text/plain": [
              "((60000,), dtype('uint8'))"
            ]
          },
          "metadata": {},
          "execution_count": 51
        }
      ]
    },
    {
      "cell_type": "code",
      "metadata": {
        "colab": {
          "base_uri": "https://localhost:8080/"
        },
        "id": "kqBtm1aXk9Kt",
        "outputId": "c53449ba-a336-4a83-d538-a3f9efd5fcba"
      },
      "source": [
        "X_test.shape, X_test.dtype"
      ],
      "execution_count": null,
      "outputs": [
        {
          "output_type": "execute_result",
          "data": {
            "text/plain": [
              "((10000, 28, 28), dtype('uint8'))"
            ]
          },
          "metadata": {},
          "execution_count": 52
        }
      ]
    },
    {
      "cell_type": "code",
      "metadata": {
        "colab": {
          "base_uri": "https://localhost:8080/"
        },
        "id": "yzhMEZvWlo3Y",
        "outputId": "79ed2841-8d97-4994-95ad-412ed37835ac"
      },
      "source": [
        "X_test.shape, y_test.shape"
      ],
      "execution_count": null,
      "outputs": [
        {
          "output_type": "execute_result",
          "data": {
            "text/plain": [
              "((10000, 28, 28), (10000,))"
            ]
          },
          "metadata": {},
          "execution_count": 53
        }
      ]
    },
    {
      "cell_type": "code",
      "metadata": {
        "id": "BQZmDvbdlFze"
      },
      "source": [
        "X_valid, X_train = X_train_full[: 5000] / 255., X_train_full[5000: ]/255.\n",
        "y_valid, y_train = y_train_full[: 5000], y_train_full[5000:]\n",
        "\n",
        "X_test = X_test/255."
      ],
      "execution_count": null,
      "outputs": []
    },
    {
      "cell_type": "code",
      "metadata": {
        "colab": {
          "base_uri": "https://localhost:8080/",
          "height": 265
        },
        "id": "J5boSdv1lwBs",
        "outputId": "4c342bb1-8b01-41e8-f707-0e6a6118d973"
      },
      "source": [
        "plt.imshow(X_train[0], cmap=\"binary\")\n",
        "plt.axis(\"off\")\n",
        "plt.show()\n",
        "y_train[0]"
      ],
      "execution_count": null,
      "outputs": [
        {
          "output_type": "display_data",
          "data": {
            "image/png": "[encoded data removed]",
            "text/plain": [
              "<Figure size 432x288 with 1 Axes>"
            ]
          },
          "metadata": {
            "needs_background": "light"
          }
        },
        {
          "output_type": "execute_result",
          "data": {
            "text/plain": [
              "7"
            ]
          },
          "metadata": {},
          "execution_count": 55
        }
      ]
    },
    {
      "cell_type": "code",
      "metadata": {
        "colab": {
          "base_uri": "https://localhost:8080/",
          "height": 880
        },
        "id": "_PCJYjS7l7kE",
        "outputId": "ed86244e-4647-4949-f968-11ef67a821b0"
      },
      "source": [
        "import seaborn as sns\n",
        "plt.figure(figsize=(15,15))\n",
        "sns.heatmap(X_train[0], annot=True, cmap=\"binary\")"
      ],
      "execution_count": null,
      "outputs": [
        {
          "output_type": "execute_result",
          "data": {
            "text/plain": [
              "<matplotlib.axes._subplots.AxesSubplot at 0x7fc15e57bcd0>"
            ]
          },
          "metadata": {},
          "execution_count": 56
        },
        {
          "output_type": "display_data",
          "data": {
            "image/png": "[encoded data removed]",
            "text/plain": [
              "<Figure size 1080x1080 with 2 Axes>"
            ]
          },
          "metadata": {
            "needs_background": "light"
          }
        }
      ]
    },
    {
      "cell_type": "code",
      "metadata": {
        "id": "mpqt_m5wmjL9"
      },
      "source": [
        "LAYERS = [\n",
        "          tf.keras.layers.Flatten(input_shape=[28, 28], name=\"inputLayer\"),\n",
        "          tf.keras.layers.Dense(300, activation=\"relu\", name=\"hiddenLayer1\"),\n",
        "          tf.keras.layers.Dense(100, activation=\"relu\", name=\"hiddenLayer2\"),\n",
        "          tf.keras.layers.Dense(10, activation=\"softmax\", name=\"outputLayer\"),\n",
        "\n",
        "]"
      ],
      "execution_count": null,
      "outputs": []
    },
    {
      "cell_type": "code",
      "metadata": {
        "id": "X0ggdEqds4oY"
      },
      "source": [
        "model = tf.keras.models.Sequential(LAYERS)"
      ],
      "execution_count": null,
      "outputs": []
    },
    {
      "cell_type": "code",
      "metadata": {
        "colab": {
          "base_uri": "https://localhost:8080/"
        },
        "id": "JkRsdhTHs83X",
        "outputId": "05facd1f-4083-4ec3-bf25-48ef693f8f82"
      },
      "source": [
        "model.layers"
      ],
      "execution_count": null,
      "outputs": [
        {
          "output_type": "execute_result",
          "data": {
            "text/plain": [
              "[<keras.layers.core.flatten.Flatten at 0x7fc147714e10>,\n",
              " <keras.layers.core.dense.Dense at 0x7fc147714690>,\n",
              " <keras.layers.core.dense.Dense at 0x7fc147714610>,\n",
              " <keras.layers.core.dense.Dense at 0x7fc15e475810>]"
            ]
          },
          "metadata": {},
          "execution_count": 59
        }
      ]
    },
    {
      "cell_type": "code",
      "metadata": {
        "colab": {
          "base_uri": "https://localhost:8080/"
        },
        "id": "uJLlB_-1tBiP",
        "outputId": "6fa70ad9-2adf-4282-e6c5-4ee0b9d6d2af"
      },
      "source": [
        "model.summary()"
      ],
      "execution_count": null,
      "outputs": [
        {
          "output_type": "stream",
          "name": "stdout",
          "text": [
            "Model: \"sequential_1\"\n",
            "_________________________________________________________________\n",
            " Layer (type)                Output Shape              Param #   \n",
            "=================================================================\n",
            " inputLayer (Flatten)        (None, 784)               0         \n",
            "                                                                 \n",
            " hiddenLayer1 (Dense)        (None, 300)               235500    \n",
            "                                                                 \n",
            " hiddenLayer2 (Dense)        (None, 100)               30100     \n",
            "                                                                 \n",
            " outputLayer (Dense)         (None, 10)                1010      \n",
            "                                                                 \n",
            "=================================================================\n",
            "Total params: 266,610\n",
            "Trainable params: 266,610\n",
            "Non-trainable params: 0\n",
            "_________________________________________________________________\n"
          ]
        }
      ]
    },
    {
      "cell_type": "code",
      "metadata": {
        "colab": {
          "base_uri": "https://localhost:8080/"
        },
        "id": "c5rOLc_2tFZo",
        "outputId": "148af004-4ddf-4543-caf8-1d8ca8da4bfc"
      },
      "source": [
        "784 * 300 + 300, 300 * 100 + 100, 100 * 10 + 10"
      ],
      "execution_count": null,
      "outputs": [
        {
          "output_type": "execute_result",
          "data": {
            "text/plain": [
              "(235500, 30100, 1010)"
            ]
          },
          "metadata": {},
          "execution_count": 62
        }
      ]
    },
    {
      "cell_type": "code",
      "metadata": {
        "colab": {
          "base_uri": "https://localhost:8080/"
        },
        "id": "D23TwGe39m2t",
        "outputId": "d1f218c2-5241-4daa-9bd3-1e651cfd5e52"
      },
      "source": [
        "sum([784 * 300 + 300, 300 * 100 + 100, 100 * 10 + 10])"
      ],
      "execution_count": null,
      "outputs": [
        {
          "output_type": "execute_result",
          "data": {
            "text/plain": [
              "266610"
            ]
          },
          "metadata": {},
          "execution_count": 64
        }
      ]
    },
    {
      "cell_type": "code",
      "metadata": {
        "colab": {
          "base_uri": "https://localhost:8080/"
        },
        "id": "xvgC89gg9_31",
        "outputId": "c5b3bba2-998b-4cec-e667-72741546f0e4"
      },
      "source": [
        "hidden1 = model.layers[1]\n",
        "\n",
        "model.get_layer(hidden1.name)"
      ],
      "execution_count": null,
      "outputs": [
        {
          "output_type": "execute_result",
          "data": {
            "text/plain": [
              "<keras.layers.core.dense.Dense at 0x7fc147714690>"
            ]
          },
          "metadata": {},
          "execution_count": 66
        }
      ]
    },
    {
      "cell_type": "code",
      "metadata": {
        "colab": {
          "base_uri": "https://localhost:8080/"
        },
        "id": "WHq61ykP-SZ9",
        "outputId": "3d9fb98a-fe24-4562-9b9c-ccb429e1f6e1"
      },
      "source": [
        "hidden1.get_weights()"
      ],
      "execution_count": null,
      "outputs": [
        {
          "output_type": "execute_result",
          "data": {
            "text/plain": [
              "[array([[ 0.0713958 , -0.06643119, -0.00286318, ..., -0.06056878,\n",
              "         -0.04671936, -0.06437337],\n",
              "        [-0.07408412,  0.04748693, -0.06212423, ...,  0.07149366,\n",
              "          0.00803909,  0.05591227],\n",
              "        [-0.06437252,  0.06711984,  0.05984493, ...,  0.03984972,\n",
              "         -0.04051149, -0.07127802],\n",
              "        ...,\n",
              "        [-0.04176156,  0.06934047,  0.0592209 , ...,  0.03020895,\n",
              "         -0.02263891, -0.00389216],\n",
              "        [ 0.03571268,  0.02632817,  0.0425036 , ...,  0.0603869 ,\n",
              "          0.04383806,  0.05621497],\n",
              "        [ 0.05404985,  0.01589576,  0.0226332 , ..., -0.04622   ,\n",
              "         -0.00196234, -0.03556149]], dtype=float32),\n",
              " array([0., 0., 0., 0., 0., 0., 0., 0., 0., 0., 0., 0., 0., 0., 0., 0., 0.,\n",
              "        0., 0., 0., 0., 0., 0., 0., 0., 0., 0., 0., 0., 0., 0., 0., 0., 0.,\n",
              "        0., 0., 0., 0., 0., 0., 0., 0., 0., 0., 0., 0., 0., 0., 0., 0., 0.,\n",
              "        0., 0., 0., 0., 0., 0., 0., 0., 0., 0., 0., 0., 0., 0., 0., 0., 0.,\n",
              "        0., 0., 0., 0., 0., 0., 0., 0., 0., 0., 0., 0., 0., 0., 0., 0., 0.,\n",
              "        0., 0., 0., 0., 0., 0., 0., 0., 0., 0., 0., 0., 0., 0., 0., 0., 0.,\n",
              "        0., 0., 0., 0., 0., 0., 0., 0., 0., 0., 0., 0., 0., 0., 0., 0., 0.,\n",
              "        0., 0., 0., 0., 0., 0., 0., 0., 0., 0., 0., 0., 0., 0., 0., 0., 0.,\n",
              "        0., 0., 0., 0., 0., 0., 0., 0., 0., 0., 0., 0., 0., 0., 0., 0., 0.,\n",
              "        0., 0., 0., 0., 0., 0., 0., 0., 0., 0., 0., 0., 0., 0., 0., 0., 0.,\n",
              "        0., 0., 0., 0., 0., 0., 0., 0., 0., 0., 0., 0., 0., 0., 0., 0., 0.,\n",
              "        0., 0., 0., 0., 0., 0., 0., 0., 0., 0., 0., 0., 0., 0., 0., 0., 0.,\n",
              "        0., 0., 0., 0., 0., 0., 0., 0., 0., 0., 0., 0., 0., 0., 0., 0., 0.,\n",
              "        0., 0., 0., 0., 0., 0., 0., 0., 0., 0., 0., 0., 0., 0., 0., 0., 0.,\n",
              "        0., 0., 0., 0., 0., 0., 0., 0., 0., 0., 0., 0., 0., 0., 0., 0., 0.,\n",
              "        0., 0., 0., 0., 0., 0., 0., 0., 0., 0., 0., 0., 0., 0., 0., 0., 0.,\n",
              "        0., 0., 0., 0., 0., 0., 0., 0., 0., 0., 0., 0., 0., 0., 0., 0., 0.,\n",
              "        0., 0., 0., 0., 0., 0., 0., 0., 0., 0., 0.], dtype=float32)]"
            ]
          },
          "metadata": {},
          "execution_count": 67
        }
      ]
    },
    {
      "cell_type": "code",
      "metadata": {
        "id": "juP0chik-em0"
      },
      "source": [
        "weights, biases = hidden1.get_weights()"
      ],
      "execution_count": null,
      "outputs": []
    },
    {
      "cell_type": "code",
      "metadata": {
        "colab": {
          "base_uri": "https://localhost:8080/"
        },
        "id": "qGRvou-q-pgz",
        "outputId": "77b95eee-40d1-4053-ce2c-f9e2260832d4"
      },
      "source": [
        "weights.shape"
      ],
      "execution_count": null,
      "outputs": [
        {
          "output_type": "execute_result",
          "data": {
            "text/plain": [
              "(784, 300)"
            ]
          },
          "metadata": {},
          "execution_count": 69
        }
      ]
    },
    {
      "cell_type": "code",
      "metadata": {
        "colab": {
          "base_uri": "https://localhost:8080/"
        },
        "id": "0DWCOg_J-rrT",
        "outputId": "0b64f044-a01b-4c68-fd0f-407b6b8c8da9"
      },
      "source": [
        "biases.shape"
      ],
      "execution_count": null,
      "outputs": [
        {
          "output_type": "execute_result",
          "data": {
            "text/plain": [
              "(300,)"
            ]
          },
          "metadata": {},
          "execution_count": 70
        }
      ]
    },
    {
      "cell_type": "markdown",
      "metadata": {
        "id": "epmuWbThAGzw"
      },
      "source": [
        "$loss\\_function(actual, pred) = error$"
      ]
    },
    {
      "cell_type": "code",
      "metadata": {
        "id": "YChhnq-H-vnN"
      },
      "source": [
        "LOSS_FUNCTION = \"sparse_categorical_crossentropy\"\n",
        "OPTIMIZER = \"SGD\"\n",
        "METRICS = [\"accuracy\"]\n",
        "\n",
        "model.compile(loss=LOSS_FUNCTION,\n",
        "              optimizer=OPTIMIZER,\n",
        "              metrics=METRICS)\n"
      ],
      "execution_count": null,
      "outputs": []
    },
    {
      "cell_type": "markdown",
      "metadata": {
        "id": "I6LlO6rFGe-O"
      },
      "source": [
        "### Important -\n",
        "\n",
        "* **Epochs**: Integer.\n",
        "    \n",
        "    Number of epochs to train the model. An epoch is an iteration over the entire x and y data provided.\n",
        "\n",
        "* **batch_size**: Integer or None.\n",
        "    \n",
        "    Number of samples per gradient update. If unspecified, batch_size will default to 32.\n",
        "    \n",
        "    *NOTE:* Do not specify the batch_size if your data is in the form of datasets, generators, or keras.utils.Sequence instances (since they generate batches).\n",
        "\n",
        "* **validation_batch_size**: Integer or None.\n",
        "\n",
        "    Number of samples per validation batch.\n",
        "    \n",
        "    If unspecified, will default to batch_size.\n",
        "    \n",
        "    *NOTE:* Do not specify the validation_batch_size if your data is in the form of datasets, generators, or keras.utils.Sequence instances (since they generate batches).\n",
        "\n",
        "[Reference](https://www.tensorflow.org/api_docs/python/tf/keras/Model?hl=zh-tw#fit)"
      ]
    },
    {
      "cell_type": "code",
      "metadata": {
        "colab": {
          "base_uri": "https://localhost:8080/"
        },
        "id": "2kAUBt2TGcYj",
        "outputId": "8a2a8d9c-af20-48d5-c55c-8b2730ddd732"
      },
      "source": [
        "EPOCHS = 30\n",
        "VALIDATION_SET = (X_valid, y_valid)\n",
        "\n",
        "history = model.fit(X_train, y_train,\n",
        "                    epochs=EPOCHS,\n",
        "                    validation_data=VALIDATION_SET)"
      ],
      "execution_count": null,
      "outputs": [
        {
          "output_type": "stream",
          "name": "stdout",
          "text": [
            "Epoch 1/30\n",
            "1719/1719 [==============================] - 4s 3ms/step - loss: 0.1125 - accuracy: 0.9687 - val_loss: 0.1147 - val_accuracy: 0.9660\n",
            "Epoch 2/30\n",
            "1719/1719 [==============================] - 4s 2ms/step - loss: 0.1030 - accuracy: 0.9709 - val_loss: 0.1086 - val_accuracy: 0.9696\n",
            "Epoch 3/30\n",
            "1719/1719 [==============================] - 4s 3ms/step - loss: 0.0942 - accuracy: 0.9739 - val_loss: 0.1014 - val_accuracy: 0.9702\n",
            "Epoch 4/30\n",
            "1719/1719 [==============================] - 4s 2ms/step - loss: 0.0873 - accuracy: 0.9754 - val_loss: 0.0985 - val_accuracy: 0.9694\n",
            "Epoch 5/30\n",
            "1719/1719 [==============================] - 4s 2ms/step - loss: 0.0809 - accuracy: 0.9774 - val_loss: 0.0956 - val_accuracy: 0.9718\n",
            "Epoch 6/30\n",
            "1719/1719 [==============================] - 4s 2ms/step - loss: 0.0754 - accuracy: 0.9790 - val_loss: 0.0906 - val_accuracy: 0.9710\n",
            "Epoch 7/30\n",
            "1719/1719 [==============================] - 4s 2ms/step - loss: 0.0706 - accuracy: 0.9800 - val_loss: 0.0855 - val_accuracy: 0.9728\n",
            "Epoch 8/30\n",
            "1719/1719 [==============================] - 4s 2ms/step - loss: 0.0656 - accuracy: 0.9816 - val_loss: 0.0863 - val_accuracy: 0.9724\n",
            "Epoch 9/30\n",
            "1719/1719 [==============================] - 4s 3ms/step - loss: 0.0616 - accuracy: 0.9830 - val_loss: 0.0835 - val_accuracy: 0.9744\n",
            "Epoch 10/30\n",
            "1719/1719 [==============================] - 4s 2ms/step - loss: 0.0576 - accuracy: 0.9840 - val_loss: 0.0807 - val_accuracy: 0.9750\n",
            "Epoch 11/30\n",
            "1719/1719 [==============================] - 4s 2ms/step - loss: 0.0541 - accuracy: 0.9855 - val_loss: 0.0788 - val_accuracy: 0.9748\n",
            "Epoch 12/30\n",
            "1719/1719 [==============================] - 4s 2ms/step - loss: 0.0510 - accuracy: 0.9861 - val_loss: 0.0778 - val_accuracy: 0.9758\n",
            "Epoch 13/30\n",
            "1719/1719 [==============================] - 4s 3ms/step - loss: 0.0478 - accuracy: 0.9872 - val_loss: 0.0749 - val_accuracy: 0.9766\n",
            "Epoch 14/30\n",
            "1719/1719 [==============================] - 5s 3ms/step - loss: 0.0450 - accuracy: 0.9884 - val_loss: 0.0769 - val_accuracy: 0.9756\n",
            "Epoch 15/30\n",
            "1719/1719 [==============================] - 5s 3ms/step - loss: 0.0424 - accuracy: 0.9889 - val_loss: 0.0752 - val_accuracy: 0.9758\n",
            "Epoch 16/30\n",
            "1719/1719 [==============================] - 5s 3ms/step - loss: 0.0399 - accuracy: 0.9899 - val_loss: 0.0733 - val_accuracy: 0.9766\n",
            "Epoch 17/30\n",
            "1719/1719 [==============================] - 4s 3ms/step - loss: 0.0375 - accuracy: 0.9905 - val_loss: 0.0724 - val_accuracy: 0.9770\n",
            "Epoch 18/30\n",
            "1719/1719 [==============================] - 4s 3ms/step - loss: 0.0354 - accuracy: 0.9910 - val_loss: 0.0699 - val_accuracy: 0.9770\n",
            "Epoch 19/30\n",
            "1719/1719 [==============================] - 4s 3ms/step - loss: 0.0335 - accuracy: 0.9919 - val_loss: 0.0705 - val_accuracy: 0.9792\n",
            "Epoch 20/30\n",
            "1719/1719 [==============================] - 4s 3ms/step - loss: 0.0315 - accuracy: 0.9921 - val_loss: 0.0702 - val_accuracy: 0.9778\n",
            "Epoch 21/30\n",
            "1719/1719 [==============================] - 4s 3ms/step - loss: 0.0298 - accuracy: 0.9931 - val_loss: 0.0713 - val_accuracy: 0.9768\n",
            "Epoch 22/30\n",
            "1719/1719 [==============================] - 5s 3ms/step - loss: 0.0283 - accuracy: 0.9936 - val_loss: 0.0687 - val_accuracy: 0.9772\n",
            "Epoch 23/30\n",
            "1719/1719 [==============================] - 5s 3ms/step - loss: 0.0266 - accuracy: 0.9944 - val_loss: 0.0668 - val_accuracy: 0.9792\n",
            "Epoch 24/30\n",
            "1719/1719 [==============================] - 4s 3ms/step - loss: 0.0251 - accuracy: 0.9944 - val_loss: 0.0674 - val_accuracy: 0.9784\n",
            "Epoch 25/30\n",
            "1719/1719 [==============================] - 4s 3ms/step - loss: 0.0237 - accuracy: 0.9951 - val_loss: 0.0673 - val_accuracy: 0.9790\n",
            "Epoch 26/30\n",
            "1719/1719 [==============================] - 4s 3ms/step - loss: 0.0226 - accuracy: 0.9954 - val_loss: 0.0673 - val_accuracy: 0.9786\n",
            "Epoch 27/30\n",
            "1719/1719 [==============================] - 4s 2ms/step - loss: 0.0213 - accuracy: 0.9958 - val_loss: 0.0676 - val_accuracy: 0.9778\n",
            "Epoch 28/30\n",
            "1719/1719 [==============================] - 4s 3ms/step - loss: 0.0202 - accuracy: 0.9962 - val_loss: 0.0678 - val_accuracy: 0.9794\n",
            "Epoch 29/30\n",
            "1719/1719 [==============================] - 4s 3ms/step - loss: 0.0193 - accuracy: 0.9966 - val_loss: 0.0670 - val_accuracy: 0.9800\n",
            "Epoch 30/30\n",
            "1719/1719 [==============================] - 4s 3ms/step - loss: 0.0182 - accuracy: 0.9969 - val_loss: 0.0671 - val_accuracy: 0.9782\n"
          ]
        }
      ]
    },
    {
      "cell_type": "code",
      "metadata": {
        "colab": {
          "base_uri": "https://localhost:8080/"
        },
        "id": "6u_GjA9eHyJQ",
        "outputId": "f393e345-e719-4a70-dc8b-ea34aed9d40f"
      },
      "source": [
        "55000 / 16"
      ],
      "execution_count": null,
      "outputs": [
        {
          "output_type": "execute_result",
          "data": {
            "text/plain": [
              "3437.5"
            ]
          },
          "metadata": {},
          "execution_count": 76
        }
      ]
    },
    {
      "cell_type": "code",
      "metadata": {
        "colab": {
          "base_uri": "https://localhost:8080/"
        },
        "id": "LzUQ-cQwH-fm",
        "outputId": "27a72446-b67a-473e-d985-b65f1f874299"
      },
      "source": [
        "model.evaluate(X_test, y_test)"
      ],
      "execution_count": null,
      "outputs": [
        {
          "output_type": "stream",
          "name": "stdout",
          "text": [
            "313/313 [==============================] - 1s 2ms/step - loss: 0.0678 - accuracy: 0.9793\n"
          ]
        },
        {
          "output_type": "execute_result",
          "data": {
            "text/plain": [
              "[0.06781463325023651, 0.9793000221252441]"
            ]
          },
          "metadata": {},
          "execution_count": 78
        }
      ]
    },
    {
      "cell_type": "code",
      "metadata": {
        "id": "7_Z6cws1JxRd"
      },
      "source": [
        "model.save(\"model.h5\")"
      ],
      "execution_count": null,
      "outputs": []
    },
    {
      "cell_type": "code",
      "metadata": {
        "id": "Yte6elY8J8pP"
      },
      "source": [
        "loaded_model = tf.keras.models.load_model(\"model.h5\")"
      ],
      "execution_count": null,
      "outputs": []
    },
    {
      "cell_type": "code",
      "metadata": {
        "colab": {
          "base_uri": "https://localhost:8080/"
        },
        "id": "EzIozz3bKI40",
        "outputId": "9e7ec445-3923-41b6-a3e1-bc567ba3500e"
      },
      "source": [
        "loaded_model.evaluate(X_test, y_test)"
      ],
      "execution_count": null,
      "outputs": [
        {
          "output_type": "stream",
          "name": "stdout",
          "text": [
            "313/313 [==============================] - 1s 2ms/step - loss: 0.0678 - accuracy: 0.9793\n"
          ]
        },
        {
          "output_type": "execute_result",
          "data": {
            "text/plain": [
              "[0.06781463325023651, 0.9793000221252441]"
            ]
          },
          "metadata": {},
          "execution_count": 81
        }
      ]
    },
    {
      "cell_type": "code",
      "metadata": {
        "colab": {
          "base_uri": "https://localhost:8080/",
          "height": 990
        },
        "id": "8tb0CR5JKMtN",
        "outputId": "445af41c-a863-43df-8ff3-1d2dbd2cf7ba"
      },
      "source": [
        "pd.DataFrame(history.history)"
      ],
      "execution_count": null,
      "outputs": [
        {
          "output_type": "execute_result",
          "data": {
            "text/html": [
              "<div>\n",
              "<style scoped>\n",
              "    .dataframe tbody tr th:only-of-type {\n",
              "        vertical-align: middle;\n",
              "    }\n",
              "\n",
              "    .dataframe tbody tr th {\n",
              "        vertical-align: top;\n",
              "    }\n",
              "\n",
              "    .dataframe thead th {\n",
              "        text-align: right;\n",
              "    }\n",
              "</style>\n",
              "<table border=\"1\" class=\"dataframe\">\n",
              "  <thead>\n",
              "    <tr style=\"text-align: right;\">\n",
              "      <th></th>\n",
              "      <th>loss</th>\n",
              "      <th>accuracy</th>\n",
              "      <th>val_loss</th>\n",
              "      <th>val_accuracy</th>\n",
              "    </tr>\n",
              "  </thead>\n",
              "  <tbody>\n",
              "    <tr>\n",
              "      <th>0</th>\n",
              "      <td>0.112470</td>\n",
              "      <td>0.968673</td>\n",
              "      <td>0.114661</td>\n",
              "      <td>0.9660</td>\n",
              "    </tr>\n",
              "    <tr>\n",
              "      <th>1</th>\n",
              "      <td>0.102964</td>\n",
              "      <td>0.970927</td>\n",
              "      <td>0.108590</td>\n",
              "      <td>0.9696</td>\n",
              "    </tr>\n",
              "    <tr>\n",
              "      <th>2</th>\n",
              "      <td>0.094179</td>\n",
              "      <td>0.973855</td>\n",
              "      <td>0.101407</td>\n",
              "      <td>0.9702</td>\n",
              "    </tr>\n",
              "    <tr>\n",
              "      <th>3</th>\n",
              "      <td>0.087291</td>\n",
              "      <td>0.975400</td>\n",
              "      <td>0.098549</td>\n",
              "      <td>0.9694</td>\n",
              "    </tr>\n",
              "    <tr>\n",
              "      <th>4</th>\n",
              "      <td>0.080943</td>\n",
              "      <td>0.977418</td>\n",
              "      <td>0.095600</td>\n",
              "      <td>0.9718</td>\n",
              "    </tr>\n",
              "    <tr>\n",
              "      <th>5</th>\n",
              "      <td>0.075403</td>\n",
              "      <td>0.979018</td>\n",
              "      <td>0.090606</td>\n",
              "      <td>0.9710</td>\n",
              "    </tr>\n",
              "    <tr>\n",
              "      <th>6</th>\n",
              "      <td>0.070626</td>\n",
              "      <td>0.980036</td>\n",
              "      <td>0.085550</td>\n",
              "      <td>0.9728</td>\n",
              "    </tr>\n",
              "    <tr>\n",
              "      <th>7</th>\n",
              "      <td>0.065635</td>\n",
              "      <td>0.981582</td>\n",
              "      <td>0.086286</td>\n",
              "      <td>0.9724</td>\n",
              "    </tr>\n",
              "    <tr>\n",
              "      <th>8</th>\n",
              "      <td>0.061563</td>\n",
              "      <td>0.982964</td>\n",
              "      <td>0.083461</td>\n",
              "      <td>0.9744</td>\n",
              "    </tr>\n",
              "    <tr>\n",
              "      <th>9</th>\n",
              "      <td>0.057636</td>\n",
              "      <td>0.983982</td>\n",
              "      <td>0.080724</td>\n",
              "      <td>0.9750</td>\n",
              "    </tr>\n",
              "    <tr>\n",
              "      <th>10</th>\n",
              "      <td>0.054111</td>\n",
              "      <td>0.985509</td>\n",
              "      <td>0.078804</td>\n",
              "      <td>0.9748</td>\n",
              "    </tr>\n",
              "    <tr>\n",
              "      <th>11</th>\n",
              "      <td>0.051022</td>\n",
              "      <td>0.986055</td>\n",
              "      <td>0.077840</td>\n",
              "      <td>0.9758</td>\n",
              "    </tr>\n",
              "    <tr>\n",
              "      <th>12</th>\n",
              "      <td>0.047805</td>\n",
              "      <td>0.987182</td>\n",
              "      <td>0.074923</td>\n",
              "      <td>0.9766</td>\n",
              "    </tr>\n",
              "    <tr>\n",
              "      <th>13</th>\n",
              "      <td>0.044972</td>\n",
              "      <td>0.988400</td>\n",
              "      <td>0.076923</td>\n",
              "      <td>0.9756</td>\n",
              "    </tr>\n",
              "    <tr>\n",
              "      <th>14</th>\n",
              "      <td>0.042376</td>\n",
              "      <td>0.988927</td>\n",
              "      <td>0.075203</td>\n",
              "      <td>0.9758</td>\n",
              "    </tr>\n",
              "    <tr>\n",
              "      <th>15</th>\n",
              "      <td>0.039862</td>\n",
              "      <td>0.989909</td>\n",
              "      <td>0.073320</td>\n",
              "      <td>0.9766</td>\n",
              "    </tr>\n",
              "    <tr>\n",
              "      <th>16</th>\n",
              "      <td>0.037475</td>\n",
              "      <td>0.990545</td>\n",
              "      <td>0.072358</td>\n",
              "      <td>0.9770</td>\n",
              "    </tr>\n",
              "    <tr>\n",
              "      <th>17</th>\n",
              "      <td>0.035372</td>\n",
              "      <td>0.990982</td>\n",
              "      <td>0.069892</td>\n",
              "      <td>0.9770</td>\n",
              "    </tr>\n",
              "    <tr>\n",
              "      <th>18</th>\n",
              "      <td>0.033506</td>\n",
              "      <td>0.991945</td>\n",
              "      <td>0.070456</td>\n",
              "      <td>0.9792</td>\n",
              "    </tr>\n",
              "    <tr>\n",
              "      <th>19</th>\n",
              "      <td>0.031538</td>\n",
              "      <td>0.992145</td>\n",
              "      <td>0.070156</td>\n",
              "      <td>0.9778</td>\n",
              "    </tr>\n",
              "    <tr>\n",
              "      <th>20</th>\n",
              "      <td>0.029839</td>\n",
              "      <td>0.993145</td>\n",
              "      <td>0.071250</td>\n",
              "      <td>0.9768</td>\n",
              "    </tr>\n",
              "    <tr>\n",
              "      <th>21</th>\n",
              "      <td>0.028250</td>\n",
              "      <td>0.993582</td>\n",
              "      <td>0.068686</td>\n",
              "      <td>0.9772</td>\n",
              "    </tr>\n",
              "    <tr>\n",
              "      <th>22</th>\n",
              "      <td>0.026595</td>\n",
              "      <td>0.994436</td>\n",
              "      <td>0.066753</td>\n",
              "      <td>0.9792</td>\n",
              "    </tr>\n",
              "    <tr>\n",
              "      <th>23</th>\n",
              "      <td>0.025148</td>\n",
              "      <td>0.994436</td>\n",
              "      <td>0.067408</td>\n",
              "      <td>0.9784</td>\n",
              "    </tr>\n",
              "    <tr>\n",
              "      <th>24</th>\n",
              "      <td>0.023658</td>\n",
              "      <td>0.995127</td>\n",
              "      <td>0.067324</td>\n",
              "      <td>0.9790</td>\n",
              "    </tr>\n",
              "    <tr>\n",
              "      <th>25</th>\n",
              "      <td>0.022581</td>\n",
              "      <td>0.995436</td>\n",
              "      <td>0.067319</td>\n",
              "      <td>0.9786</td>\n",
              "    </tr>\n",
              "    <tr>\n",
              "      <th>26</th>\n",
              "      <td>0.021297</td>\n",
              "      <td>0.995782</td>\n",
              "      <td>0.067571</td>\n",
              "      <td>0.9778</td>\n",
              "    </tr>\n",
              "    <tr>\n",
              "      <th>27</th>\n",
              "      <td>0.020165</td>\n",
              "      <td>0.996182</td>\n",
              "      <td>0.067803</td>\n",
              "      <td>0.9794</td>\n",
              "    </tr>\n",
              "    <tr>\n",
              "      <th>28</th>\n",
              "      <td>0.019286</td>\n",
              "      <td>0.996564</td>\n",
              "      <td>0.067041</td>\n",
              "      <td>0.9800</td>\n",
              "    </tr>\n",
              "    <tr>\n",
              "      <th>29</th>\n",
              "      <td>0.018195</td>\n",
              "      <td>0.996873</td>\n",
              "      <td>0.067126</td>\n",
              "      <td>0.9782</td>\n",
              "    </tr>\n",
              "  </tbody>\n",
              "</table>\n",
              "</div>"
            ],
            "text/plain": [
              "        loss  accuracy  val_loss  val_accuracy\n",
              "0   0.112470  0.968673  0.114661        0.9660\n",
              "1   0.102964  0.970927  0.108590        0.9696\n",
              "2   0.094179  0.973855  0.101407        0.9702\n",
              "3   0.087291  0.975400  0.098549        0.9694\n",
              "4   0.080943  0.977418  0.095600        0.9718\n",
              "5   0.075403  0.979018  0.090606        0.9710\n",
              "6   0.070626  0.980036  0.085550        0.9728\n",
              "7   0.065635  0.981582  0.086286        0.9724\n",
              "8   0.061563  0.982964  0.083461        0.9744\n",
              "9   0.057636  0.983982  0.080724        0.9750\n",
              "10  0.054111  0.985509  0.078804        0.9748\n",
              "11  0.051022  0.986055  0.077840        0.9758\n",
              "12  0.047805  0.987182  0.074923        0.9766\n",
              "13  0.044972  0.988400  0.076923        0.9756\n",
              "14  0.042376  0.988927  0.075203        0.9758\n",
              "15  0.039862  0.989909  0.073320        0.9766\n",
              "16  0.037475  0.990545  0.072358        0.9770\n",
              "17  0.035372  0.990982  0.069892        0.9770\n",
              "18  0.033506  0.991945  0.070456        0.9792\n",
              "19  0.031538  0.992145  0.070156        0.9778\n",
              "20  0.029839  0.993145  0.071250        0.9768\n",
              "21  0.028250  0.993582  0.068686        0.9772\n",
              "22  0.026595  0.994436  0.066753        0.9792\n",
              "23  0.025148  0.994436  0.067408        0.9784\n",
              "24  0.023658  0.995127  0.067324        0.9790\n",
              "25  0.022581  0.995436  0.067319        0.9786\n",
              "26  0.021297  0.995782  0.067571        0.9778\n",
              "27  0.020165  0.996182  0.067803        0.9794\n",
              "28  0.019286  0.996564  0.067041        0.9800\n",
              "29  0.018195  0.996873  0.067126        0.9782"
            ]
          },
          "metadata": {},
          "execution_count": 84
        }
      ]
    },
    {
      "cell_type": "code",
      "metadata": {
        "colab": {
          "base_uri": "https://localhost:8080/",
          "height": 324
        },
        "id": "vJXocgdQKRmd",
        "outputId": "db7e18b3-9149-4691-b7e6-d5b079af7c69"
      },
      "source": [
        "pd.DataFrame(history.history).plot(figsize=(8,5))\n",
        "plt.grid(True)\n",
        "plt.gca().set_ylim(0,1)\n",
        "plt.show()"
      ],
      "execution_count": null,
      "outputs": [
        {
          "output_type": "display_data",
          "data": {
            "image/png": "[encoded data removed]",
            "text/plain": [
              "<Figure size 576x360 with 1 Axes>"
            ]
          },
          "metadata": {
            "needs_background": "light"
          }
        }
      ]
    },
    {
      "cell_type": "code",
      "metadata": {
        "colab": {
          "base_uri": "https://localhost:8080/"
        },
        "id": "LrpW-J2KKnjm",
        "outputId": "c0abd244-86e9-4f93-c7a6-3d852e906da1"
      },
      "source": [
        "X_new = X_test[:3]\n",
        "y_new = y_test[:3]\n",
        "y_proba = model.predict(X_new)\n",
        "y_proba.round(2)"
      ],
      "execution_count": null,
      "outputs": [
        {
          "output_type": "execute_result",
          "data": {
            "text/plain": [
              "array([[0., 0., 0., 0., 0., 0., 0., 1., 0., 0.],\n",
              "       [0., 0., 1., 0., 0., 0., 0., 0., 0., 0.],\n",
              "       [0., 1., 0., 0., 0., 0., 0., 0., 0., 0.]], dtype=float32)"
            ]
          },
          "metadata": {},
          "execution_count": 91
        }
      ]
    },
    {
      "cell_type": "code",
      "metadata": {
        "colab": {
          "base_uri": "https://localhost:8080/"
        },
        "id": "EXYVWw36K6IW",
        "outputId": "0d2f0a1c-f826-4352-eba2-7d274c348874"
      },
      "source": [
        "y_pred = np.argmax(y_proba, axis=-1)\n",
        "y_pred, y_new"
      ],
      "execution_count": null,
      "outputs": [
        {
          "output_type": "execute_result",
          "data": {
            "text/plain": [
              "(array([7, 2, 1]), array([7, 2, 1], dtype=uint8))"
            ]
          },
          "metadata": {},
          "execution_count": 92
        }
      ]
    },
    {
      "cell_type": "code",
      "metadata": {
        "colab": {
          "base_uri": "https://localhost:8080/",
          "height": 810
        },
        "id": "QnK9aKJlLNa7",
        "outputId": "087c5f1a-2f42-421e-bad6-efef2194befe"
      },
      "source": [
        "for data, pred, actual in zip(X_new, y_pred, y_new):\n",
        "  plt.imshow(data, cmap=\"binary\")\n",
        "  plt.title(f\"Predicted: {pred}, Actual: {actual}\")\n",
        "  plt.axis(\"off\")\n",
        "  plt.show()\n",
        "  print(\"---\"*20)"
      ],
      "execution_count": null,
      "outputs": [
        {
          "output_type": "display_data",
          "data": {
            "image/png": "[encoded data removed]",
            "text/plain": [
              "<Figure size 432x288 with 1 Axes>"
            ]
          },
          "metadata": {
            "needs_background": "light"
          }
        },
        {
          "output_type": "stream",
          "name": "stdout",
          "text": [
            "------------------------------------------------------------\n"
          ]
        },
        {
          "output_type": "display_data",
          "data": {
            "image/png": "[encoded data removed]",
            "text/plain": [
              "<Figure size 432x288 with 1 Axes>"
            ]
          },
          "metadata": {
            "needs_background": "light"
          }
        },
        {
          "output_type": "stream",
          "name": "stdout",
          "text": [
            "------------------------------------------------------------\n"
          ]
        },
        {
          "output_type": "display_data",
          "data": {
            "image/png": "[encoded data removed]",
            "text/plain": [
              "<Figure size 432x288 with 1 Axes>"
            ]
          },
          "metadata": {
            "needs_background": "light"
          }
        },
        {
          "output_type": "stream",
          "name": "stdout",
          "text": [
            "------------------------------------------------------------\n"
          ]
        }
      ]
    },
    {
      "cell_type": "code",
      "metadata": {
        "id": "9DAOxwRLL3ta"
      },
      "source": [],
      "execution_count": null,
      "outputs": []
    }
  ]
}